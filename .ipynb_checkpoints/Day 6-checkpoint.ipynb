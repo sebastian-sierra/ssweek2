{
 "cells": [
  {
   "cell_type": "markdown",
   "metadata": {},
   "source": [
    "# Day 6\n",
    "\n",
    "You can find the completed scripts for rendering Stream Lines in scripts/07_NB_Challenge_1.py.\n",
    "\n",
    "You can also play with the wind state in paraview in the file data/wind_vis.pvsm. What I tried to to was the following:\n",
    "\n",
    "* I changed to a larger color spectrum\n",
    "* I tried to keep the 3d volume but with some strong opacity in order to see inside of it\n",
    "* One vertical and one horizontal slice in the areas where strong winds are present\n",
    "* Render the glyphs with a speed higher than 30\n",
    "\n",
    "<img src=\"imgs/wind_paraview.png\">\n"
   ]
  }
 ],
 "metadata": {
  "kernelspec": {
   "display_name": "Python 3",
   "language": "python",
   "name": "python3"
  },
  "language_info": {
   "codemirror_mode": {
    "name": "ipython",
    "version": 3
   },
   "file_extension": ".py",
   "mimetype": "text/x-python",
   "name": "python",
   "nbconvert_exporter": "python",
   "pygments_lexer": "ipython3",
   "version": "3.6.1"
  }
 },
 "nbformat": 4,
 "nbformat_minor": 2
}
