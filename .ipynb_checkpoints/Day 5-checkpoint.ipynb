{
 "cells": [
  {
   "cell_type": "markdown",
   "metadata": {},
   "source": [
    "# Day 5\n",
    "\n",
    "The transfer function that I used is this one:"
   ]
  },
  {
   "cell_type": "code",
   "execution_count": null,
   "metadata": {
    "collapsed": true
   },
   "outputs": [],
   "source": [
    "##------------FILTER, MAPPER, AND ACTOR: VOLUME RENDERING -------------------\n",
    "# Create transfer mapping scalar value to opacity\n",
    "opacityTransferFunction = vtk.vtkPiecewiseFunction()\n",
    "opacityTransferFunction.AddPoint(0, 0.1)\n",
    "opacityTransferFunction.AddPoint(15.0, 0.15)\n",
    "opacityTransferFunction.AddPoint(30.0, 0.20)\n",
    "opacityTransferFunction.AddPoint(45.0, 0.25)\n",
    "opacityTransferFunction.AddPoint(80.0, 0.30)\n",
    "\n",
    "# Create transfer mapping scalar value to color\n",
    "colorTransferFunction = vtk.vtkColorTransferFunction()\n",
    "colorTransferFunction.AddRGBPoint(0.0, 0.0, 0.0, 1.0)\n",
    "colorTransferFunction.AddRGBPoint(15.0, 0.0, 1.0, 1.0)\n",
    "colorTransferFunction.AddRGBPoint(30.0, 0.0, 1.0, 0.0)\n",
    "colorTransferFunction.AddRGBPoint(45.0, 1.0, 1.0, 0.0)\n",
    "colorTransferFunction.AddRGBPoint(80.0, 1.0, 0.0, 0.0)"
   ]
  },
  {
   "cell_type": "markdown",
   "metadata": {},
   "source": [
    "You can find the whole script in scripts/05_wind_color.py\n",
    "\n",
    "The resulting visualisation is:\n",
    "\n",
    "<img src=\"imgs/wind_vtk.png\">"
   ]
  },
  {
   "cell_type": "markdown",
   "metadata": {},
   "source": []
  }
 ],
 "metadata": {
  "kernelspec": {
   "display_name": "Python 3",
   "language": "python",
   "name": "python3"
  },
  "language_info": {
   "codemirror_mode": {
    "name": "ipython",
    "version": 3
   },
   "file_extension": ".py",
   "mimetype": "text/x-python",
   "name": "python",
   "nbconvert_exporter": "python",
   "pygments_lexer": "ipython3",
   "version": "3.6.1"
  }
 },
 "nbformat": 4,
 "nbformat_minor": 2
}
