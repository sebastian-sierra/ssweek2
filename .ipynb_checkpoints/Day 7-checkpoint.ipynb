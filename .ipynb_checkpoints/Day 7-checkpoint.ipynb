{
 "cells": [
  {
   "cell_type": "markdown",
   "metadata": {},
   "source": [
    "# Day 7\n",
    "\n",
    "In order to have a signal that starts from the left I did the following:"
   ]
  },
  {
   "cell_type": "code",
   "execution_count": null,
   "metadata": {
    "collapsed": true
   },
   "outputs": [],
   "source": [
    "def step_wave(t):\n",
    "\n",
    "    c = 1.0 # wave speed\n",
    "\n",
    "    if t<2:\n",
    "\n",
    "        print( 'stability:', (c*dt/dx)**2 )\n",
    "\n",
    "        # set initial condition\n",
    "        for i in range(0,nx):\n",
    "            u[t,i] = 0.0 \n",
    "\n",
    "    else:\n",
    "        # compute second x-derivative using central differences\n",
    "        ddx = (u[t-1,0:nx-2]-2*u[t-1,1:nx-1]+u[t-1,2:nx])/(dx**2)\n",
    "\n",
    "        # apply second-order central differences in time\n",
    "        u[t,1:nx-1] = 2*u[t-1,1:nx-1] - u[t-2,1:nx-1] + (c*dt)**2 * ddx\n",
    "\n",
    "        # apply boundary conditions\n",
    "        u[t,0] = np.sin(t/30)\n",
    "        u[t,nx-1] = 0\n",
    "\n",
    "    l.set_data(np.linspace(xmin,xmax,nx), u[t,:])\n",
    "    return l"
   ]
  },
  {
   "cell_type": "markdown",
   "metadata": {},
   "source": [
    "You can find the code in scripts/08_left.py\n",
    "\n",
    "For the motionless wave:\n",
    "\n"
   ]
  },
  {
   "cell_type": "code",
   "execution_count": null,
   "metadata": {
    "collapsed": true
   },
   "outputs": [],
   "source": [
    "def step_wave(t):\n",
    "\n",
    "    c = 1.0 # wave speed\n",
    "\n",
    "    if t<2:\n",
    "\n",
    "        print( 'stability:', (c*dt/dx)**2 )\n",
    "\n",
    "        # set initial condition\n",
    "        for i in range(0,nx):\n",
    "            u[t,i] = 0.0 #init_square( xmin + i*dx )\n",
    "\n",
    "    else:\n",
    "        # compute second x-derivative using central differences\n",
    "        ddx = (u[t-1,0:nx-2]-2*u[t-1,1:nx-1]+u[t-1,2:nx])/(dx**2)\n",
    "\n",
    "        # apply second-order central differences in time\n",
    "        u[t,1:nx-1] = 2*u[t-1,1:nx-1] - u[t-2,1:nx-1] + (c*dt)**2 * ddx\n",
    "\n",
    "        # apply boundary conditions\n",
    "        #u[t,0] = -2*np.sin(t)*np.sin(t)\n",
    "        u[t,0] = xmax*math.sin(math.pi*dt*1/xmax)*math.cos(math.pi*dt*2*t/xmax)\n",
    "        u[t,nx-1] = 0#np.sin(t/20)\n",
    "\n",
    "    l.set_data(np.linspace(xmin,xmax,nx), u[t,:])\n",
    "    return l,"
   ]
  },
  {
   "cell_type": "markdown",
   "metadata": {},
   "source": [
    "You can find the script in scripts/08_motionless.py"
   ]
  },
  {
   "cell_type": "code",
   "execution_count": null,
   "metadata": {
    "collapsed": true
   },
   "outputs": [],
   "source": []
  }
 ],
 "metadata": {
  "kernelspec": {
   "display_name": "Python 3",
   "language": "python",
   "name": "python3"
  },
  "language_info": {
   "codemirror_mode": {
    "name": "ipython",
    "version": 3
   },
   "file_extension": ".py",
   "mimetype": "text/x-python",
   "name": "python",
   "nbconvert_exporter": "python",
   "pygments_lexer": "ipython3",
   "version": "3.6.1"
  }
 },
 "nbformat": 4,
 "nbformat_minor": 2
}
